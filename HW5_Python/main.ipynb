{
 "cells": [
  {
   "cell_type": "code",
   "execution_count": 2,
   "id": "3535df29",
   "metadata": {},
   "outputs": [],
   "source": [
    "import cv2 as cv\n",
    "\n",
    "PATH_To_Book1 = \"../Data/Hw5/scene/book1.jpg\"\n",
    "PATH_To_Book2 = \"../Data/Hw5/scene/book2.jpg\"\n",
    "PATH_To_Book3 = \"../Data/Hw5/scene/book3.jpg\"\n",
    "PATH_To_Scene  = \"../Data/Hw5/scene/scene.jpg\""
   ]
  },
  {
   "cell_type": "code",
   "execution_count": 3,
   "id": "cf244cd6",
   "metadata": {},
   "outputs": [],
   "source": [
    "Book1_IMG = cv.imread(PATH_To_Book1)\n",
    "Book2_IMG = cv.imread(PATH_To_Book2)\n",
    "Book3_IMG = cv.imread(PATH_To_Book3)\n",
    "Scece_IMG = cv.imread(PATH_To_Scene)"
   ]
  },
  {
   "cell_type": "code",
   "execution_count": 4,
   "id": "780b9288",
   "metadata": {},
   "outputs": [],
   "source": [
    "# Ref:\n",
    "# 1. [YouTube Video] Feature detection (SIFT, SURF, ORB) – OpenCV 3.4 with python 3 Tutorial 25\n",
    "#    https://www.youtube.com/watch?v=USl5BHFq2H4"
   ]
  },
  {
   "cell_type": "code",
   "execution_count": null,
   "id": "d72a28dc",
   "metadata": {},
   "outputs": [],
   "source": []
  }
 ],
 "metadata": {
  "kernelspec": {
   "display_name": "Python 3 (ipykernel)",
   "language": "python",
   "name": "python3"
  },
  "language_info": {
   "codemirror_mode": {
    "name": "ipython",
    "version": 3
   },
   "file_extension": ".py",
   "mimetype": "text/x-python",
   "name": "python",
   "nbconvert_exporter": "python",
   "pygments_lexer": "ipython3",
   "version": "3.8.12"
  }
 },
 "nbformat": 4,
 "nbformat_minor": 5
}
